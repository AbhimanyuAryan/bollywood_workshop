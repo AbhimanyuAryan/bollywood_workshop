{
 "cells": [
  {
   "cell_type": "markdown",
   "metadata": {},
   "source": [
    "# Appendinx\n",
    "\n",
    "This file contains code required to make the repository self contained, but these materials are not part of the workshop."
   ]
  },
  {
   "cell_type": "markdown",
   "metadata": {},
   "source": [
    "### Building the datasets\n",
    "\n",
    "The output of the scraping is a single JSON lines file, witht the scrapping of the different pages. In this section, the rows from each page are splitted and saved in different files for the workshop."
   ]
  },
  {
   "cell_type": "code",
   "execution_count": 1,
   "metadata": {},
   "outputs": [],
   "source": [
    "import pandas\n",
    "\n",
    "imdb = pandas.read_json('data/data_with_bio.jl', lines=True)"
   ]
  },
  {
   "cell_type": "code",
   "execution_count": 2,
   "metadata": {},
   "outputs": [],
   "source": [
    "MOVIE_LIST_FIELDS =[\n",
    "    'imdb_id',\n",
    "    'title',\n",
    "    'image',\n",
    "    'summary',\n",
    "    'year',\n",
    "    'rating',\n",
    "    'votes',\n",
    "    'gross',\n",
    "]\n",
    "imdb['year'] = imdb['year'].str.extract('\\((\\d{4})\\)$', expand=False)\n",
    "imdb[imdb.source == 'list'][MOVIE_LIST_FIELDS].to_csv('data/movies_from_list.csv.gz',\n",
    "                                                      index=False,\n",
    "                                                      compression='gzip')"
   ]
  },
  {
   "cell_type": "code",
   "execution_count": 3,
   "metadata": {},
   "outputs": [],
   "source": [
    "MOVIE_DETAIL_FIELDS = [\n",
    "    'imdb_id',\n",
    "    'storyline',\n",
    "    'photo',\n",
    "    'release_date',\n",
    "    'country',\n",
    "    'language',\n",
    "    'genres',\n",
    "    'color',\n",
    "    'runtime',\n",
    "    'certificate',\n",
    "    'production_co',\n",
    "    'rate',\n",
    "    'num_ratings',\n",
    "    'plot_keywords',\n",
    "    'cast'\n",
    "]\n",
    "imdb[imdb.source == 'movie'][MOVIE_DETAIL_FIELDS].set_index('imdb_id').to_json('data/movies_from_detail.jsonl.bz2',\n",
    "                                                                               orient='records',\n",
    "                                                                               lines=True,\n",
    "                                                                               compression='bz2')"
   ]
  }
 ],
 "metadata": {
  "kernelspec": {
   "display_name": "Python 3",
   "language": "python",
   "name": "python3"
  },
  "language_info": {
   "codemirror_mode": {
    "name": "ipython",
    "version": 3
   },
   "file_extension": ".py",
   "mimetype": "text/x-python",
   "name": "python",
   "nbconvert_exporter": "python",
   "pygments_lexer": "ipython3",
   "version": "3.6.5"
  }
 },
 "nbformat": 4,
 "nbformat_minor": 2
}
