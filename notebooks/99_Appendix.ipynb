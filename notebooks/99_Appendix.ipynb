{
 "cells": [
  {
   "cell_type": "markdown",
   "metadata": {},
   "source": [
    "# Appendinx\n",
    "\n",
    "This file contains code required to make the repository self contained, but these materials are not part of the workshop."
   ]
  },
  {
   "cell_type": "markdown",
   "metadata": {},
   "source": [
    "### Building the datasets\n",
    "\n",
    "The output of the scraping is a single JSON lines file, witht the scrapping of the different pages. In this section, the rows from each page are splitted and saved in different files for the workshop."
   ]
  },
  {
   "cell_type": "code",
   "execution_count": 1,
   "metadata": {},
   "outputs": [],
   "source": [
    "import pandas\n",
    "\n",
    "imdb = pandas.read_json('data/data_with_bio.jl.bz2', lines=True)"
   ]
  },
  {
   "cell_type": "code",
   "execution_count": 2,
   "metadata": {},
   "outputs": [],
   "source": [
    "MOVIE_LIST_FIELDS =[\n",
    "    'imdb_id',\n",
    "    'title',\n",
    "    'summary',\n",
    "    'year',\n",
    "    'rating',\n",
    "    'gross',\n",
    "]\n",
    "imdb['year'] = imdb['year'].str.extract('\\((\\d{4})\\)$', expand=False)\n",
    "imdb[imdb.source == 'list'][MOVIE_LIST_FIELDS].to_csv('data/movies_from_list.csv.gz',\n",
    "                                                      sep=';',\n",
    "                                                      index=False,\n",
    "                                                      compression='gzip')"
   ]
  },
  {
   "cell_type": "code",
   "execution_count": 3,
   "metadata": {},
   "outputs": [],
   "source": [
    "MOVIE_DETAIL_FIELDS = [\n",
    "    'imdb_id',\n",
    "    'storyline',\n",
    "    'photo',\n",
    "    'release_date',\n",
    "    'country',\n",
    "    'language',\n",
    "    'genres',\n",
    "    'color',\n",
    "    'runtime',\n",
    "    'certificate',\n",
    "    'production_co',\n",
    "    'rate',\n",
    "    'num_ratings',\n",
    "    'plot_keywords',\n",
    "    'cast'\n",
    "]\n",
    "imdb['color'] = imdb['color'].replace({'ColorColor': 'Color',\n",
    "                                       'ColorColorColor': 'Color',\n",
    "                                       'Black and White Black and White': 'Black and White'})\n",
    "imdb['color'] = imdb['color'].where(imdb.color.isin(['Color', 'Black and White']), float('NaN'))\n",
    "(imdb[imdb.source == 'movie'][MOVIE_DETAIL_FIELDS].drop_duplicates(subset=['imdb_id'])\n",
    "                                                  .set_index('imdb_id')\n",
    "                                                  .to_json('data/movies_from_detail.json.bz2',\n",
    "                                                           compression='bz2'))"
   ]
  },
  {
   "cell_type": "markdown",
   "metadata": {},
   "source": [
    "### Part I: Loading, exploring and cleaning data"
   ]
  },
  {
   "cell_type": "markdown",
   "metadata": {},
   "source": [
    "Load data"
   ]
  },
  {
   "cell_type": "code",
   "execution_count": 4,
   "metadata": {},
   "outputs": [],
   "source": [
    "import os\n",
    "\n",
    "MOVIES_LIST_FNAME = os.path.join('data', 'movies_from_list.csv.gz')\n",
    "MOVIES_DETAIL_FNAME = os.path.join('data', 'movies_from_detail.json.bz2')"
   ]
  },
  {
   "cell_type": "code",
   "execution_count": 5,
   "metadata": {},
   "outputs": [],
   "source": [
    "movies_list = pandas.read_csv(MOVIES_LIST_FNAME, sep=';')\n",
    "movies_detail = pandas.read_json(MOVIES_DETAIL_FNAME)"
   ]
  },
  {
   "cell_type": "markdown",
   "metadata": {},
   "source": [
    "Exploring"
   ]
  },
  {
   "cell_type": "code",
   "execution_count": 6,
   "metadata": {},
   "outputs": [
    {
     "data": {
      "text/html": [
       "<div>\n",
       "<style scoped>\n",
       "    .dataframe tbody tr th:only-of-type {\n",
       "        vertical-align: middle;\n",
       "    }\n",
       "\n",
       "    .dataframe tbody tr th {\n",
       "        vertical-align: top;\n",
       "    }\n",
       "\n",
       "    .dataframe thead th {\n",
       "        text-align: right;\n",
       "    }\n",
       "</style>\n",
       "<table border=\"1\" class=\"dataframe\">\n",
       "  <thead>\n",
       "    <tr style=\"text-align: right;\">\n",
       "      <th></th>\n",
       "      <th>imdb_id</th>\n",
       "      <th>title</th>\n",
       "      <th>summary</th>\n",
       "      <th>year</th>\n",
       "      <th>rating</th>\n",
       "      <th>gross</th>\n",
       "    </tr>\n",
       "  </thead>\n",
       "  <tbody>\n",
       "    <tr>\n",
       "      <th>0</th>\n",
       "      <td>tt5474036</td>\n",
       "      <td>Husband Material</td>\n",
       "      <td>The film is a love story set in Punjab where A...</td>\n",
       "      <td>2018.0</td>\n",
       "      <td>7.0</td>\n",
       "      <td>5.0</td>\n",
       "    </tr>\n",
       "    <tr>\n",
       "      <th>1</th>\n",
       "      <td>tt5970844</td>\n",
       "      <td>Thugs of Hindostan</td>\n",
       "      <td>NaN</td>\n",
       "      <td>2018.0</td>\n",
       "      <td>NaN</td>\n",
       "      <td>NaN</td>\n",
       "    </tr>\n",
       "    <tr>\n",
       "      <th>2</th>\n",
       "      <td>tt8108202</td>\n",
       "      <td>Stree</td>\n",
       "      <td>In the small town of Chanderi, the menfolk liv...</td>\n",
       "      <td>2018.0</td>\n",
       "      <td>8.3</td>\n",
       "      <td>NaN</td>\n",
       "    </tr>\n",
       "    <tr>\n",
       "      <th>3</th>\n",
       "      <td>tt7720922</td>\n",
       "      <td>Batti Gul Meter Chalu</td>\n",
       "      <td>A social movie about escalating electric bills.</td>\n",
       "      <td>2018.0</td>\n",
       "      <td>6.4</td>\n",
       "      <td>1.0</td>\n",
       "    </tr>\n",
       "    <tr>\n",
       "      <th>4</th>\n",
       "      <td>tt5080556</td>\n",
       "      <td>2.0</td>\n",
       "      <td>Dr. Vaseegaran is forced to reassemble Chitti ...</td>\n",
       "      <td>2018.0</td>\n",
       "      <td>NaN</td>\n",
       "      <td>NaN</td>\n",
       "    </tr>\n",
       "  </tbody>\n",
       "</table>\n",
       "</div>"
      ],
      "text/plain": [
       "     imdb_id                  title  \\\n",
       "0  tt5474036       Husband Material   \n",
       "1  tt5970844     Thugs of Hindostan   \n",
       "2  tt8108202                  Stree   \n",
       "3  tt7720922  Batti Gul Meter Chalu   \n",
       "4  tt5080556                    2.0   \n",
       "\n",
       "                                             summary    year  rating  gross  \n",
       "0  The film is a love story set in Punjab where A...  2018.0     7.0    5.0  \n",
       "1                                                NaN  2018.0     NaN    NaN  \n",
       "2  In the small town of Chanderi, the menfolk liv...  2018.0     8.3    NaN  \n",
       "3    A social movie about escalating electric bills.  2018.0     6.4    1.0  \n",
       "4  Dr. Vaseegaran is forced to reassemble Chitti ...  2018.0     NaN    NaN  "
      ]
     },
     "execution_count": 6,
     "metadata": {},
     "output_type": "execute_result"
    }
   ],
   "source": [
    "movies_list.head()"
   ]
  },
  {
   "cell_type": "code",
   "execution_count": 7,
   "metadata": {},
   "outputs": [
    {
     "data": {
      "text/html": [
       "<div>\n",
       "<style scoped>\n",
       "    .dataframe tbody tr th:only-of-type {\n",
       "        vertical-align: middle;\n",
       "    }\n",
       "\n",
       "    .dataframe tbody tr th {\n",
       "        vertical-align: top;\n",
       "    }\n",
       "\n",
       "    .dataframe thead th {\n",
       "        text-align: right;\n",
       "    }\n",
       "</style>\n",
       "<table border=\"1\" class=\"dataframe\">\n",
       "  <thead>\n",
       "    <tr style=\"text-align: right;\">\n",
       "      <th></th>\n",
       "      <th>tt9056988</th>\n",
       "      <th>tt9059202</th>\n",
       "      <th>tt9060700</th>\n",
       "    </tr>\n",
       "  </thead>\n",
       "  <tbody>\n",
       "    <tr>\n",
       "      <th>storyline</th>\n",
       "      <td>Later they realise that the game has turned ab...</td>\n",
       "      <td>None</td>\n",
       "      <td>None</td>\n",
       "    </tr>\n",
       "    <tr>\n",
       "      <th>photo</th>\n",
       "      <td>None</td>\n",
       "      <td>None</td>\n",
       "      <td>None</td>\n",
       "    </tr>\n",
       "    <tr>\n",
       "      <th>release_date</th>\n",
       "      <td>2018 (India)</td>\n",
       "      <td>30 September 2018 (India)</td>\n",
       "      <td>February 2019 (India)</td>\n",
       "    </tr>\n",
       "    <tr>\n",
       "      <th>country</th>\n",
       "      <td>[India]</td>\n",
       "      <td>[India]</td>\n",
       "      <td>[India]</td>\n",
       "    </tr>\n",
       "    <tr>\n",
       "      <th>language</th>\n",
       "      <td>[Hindi]</td>\n",
       "      <td>[Hindi]</td>\n",
       "      <td>[Hindi]</td>\n",
       "    </tr>\n",
       "    <tr>\n",
       "      <th>genres</th>\n",
       "      <td>[Horror]</td>\n",
       "      <td>[Drama]</td>\n",
       "      <td>[Drama]</td>\n",
       "    </tr>\n",
       "    <tr>\n",
       "      <th>color</th>\n",
       "      <td>Color</td>\n",
       "      <td>Color</td>\n",
       "      <td>Color</td>\n",
       "    </tr>\n",
       "    <tr>\n",
       "      <th>runtime</th>\n",
       "      <td>None</td>\n",
       "      <td>65 min</td>\n",
       "      <td>90 min</td>\n",
       "    </tr>\n",
       "    <tr>\n",
       "      <th>certificate</th>\n",
       "      <td>None</td>\n",
       "      <td>None</td>\n",
       "      <td>None</td>\n",
       "    </tr>\n",
       "    <tr>\n",
       "      <th>production_co</th>\n",
       "      <td>[]</td>\n",
       "      <td>[]</td>\n",
       "      <td>[Golden Triangle Charity Trust, Sylph Producti...</td>\n",
       "    </tr>\n",
       "    <tr>\n",
       "      <th>rate</th>\n",
       "      <td>NaN</td>\n",
       "      <td>10</td>\n",
       "      <td>NaN</td>\n",
       "    </tr>\n",
       "    <tr>\n",
       "      <th>num_ratings</th>\n",
       "      <td>None</td>\n",
       "      <td>5</td>\n",
       "      <td>None</td>\n",
       "    </tr>\n",
       "    <tr>\n",
       "      <th>plot_keywords</th>\n",
       "      <td>[hindi]</td>\n",
       "      <td>None</td>\n",
       "      <td>None</td>\n",
       "    </tr>\n",
       "    <tr>\n",
       "      <th>cast</th>\n",
       "      <td>[{'imdb_id': 'nm0324744', 'name': 'Ramesh Goya...</td>\n",
       "      <td>[{'imdb_id': 'nm10156491', 'name': 'Meenu Kawa...</td>\n",
       "      <td>[{'imdb_id': 'nm10150444', 'name': 'Krishna Ga...</td>\n",
       "    </tr>\n",
       "  </tbody>\n",
       "</table>\n",
       "</div>"
      ],
      "text/plain": [
       "                                                       tt9056988  \\\n",
       "storyline      Later they realise that the game has turned ab...   \n",
       "photo                                                       None   \n",
       "release_date                                        2018 (India)   \n",
       "country                                                  [India]   \n",
       "language                                                 [Hindi]   \n",
       "genres                                                  [Horror]   \n",
       "color                                                      Color   \n",
       "runtime                                                     None   \n",
       "certificate                                                 None   \n",
       "production_co                                                 []   \n",
       "rate                                                         NaN   \n",
       "num_ratings                                                 None   \n",
       "plot_keywords                                            [hindi]   \n",
       "cast           [{'imdb_id': 'nm0324744', 'name': 'Ramesh Goya...   \n",
       "\n",
       "                                                       tt9059202  \\\n",
       "storyline                                                   None   \n",
       "photo                                                       None   \n",
       "release_date                           30 September 2018 (India)   \n",
       "country                                                  [India]   \n",
       "language                                                 [Hindi]   \n",
       "genres                                                   [Drama]   \n",
       "color                                                      Color   \n",
       "runtime                                                   65 min   \n",
       "certificate                                                 None   \n",
       "production_co                                                 []   \n",
       "rate                                                          10   \n",
       "num_ratings                                                    5   \n",
       "plot_keywords                                               None   \n",
       "cast           [{'imdb_id': 'nm10156491', 'name': 'Meenu Kawa...   \n",
       "\n",
       "                                                       tt9060700  \n",
       "storyline                                                   None  \n",
       "photo                                                       None  \n",
       "release_date                               February 2019 (India)  \n",
       "country                                                  [India]  \n",
       "language                                                 [Hindi]  \n",
       "genres                                                   [Drama]  \n",
       "color                                                      Color  \n",
       "runtime                                                   90 min  \n",
       "certificate                                                 None  \n",
       "production_co  [Golden Triangle Charity Trust, Sylph Producti...  \n",
       "rate                                                         NaN  \n",
       "num_ratings                                                 None  \n",
       "plot_keywords                                               None  \n",
       "cast           [{'imdb_id': 'nm10150444', 'name': 'Krishna Ga...  "
      ]
     },
     "execution_count": 7,
     "metadata": {},
     "output_type": "execute_result"
    }
   ],
   "source": [
    "movies_detail.tail(3).T"
   ]
  },
  {
   "cell_type": "code",
   "execution_count": 8,
   "metadata": {},
   "outputs": [
    {
     "data": {
      "text/html": [
       "<div>\n",
       "<style scoped>\n",
       "    .dataframe tbody tr th:only-of-type {\n",
       "        vertical-align: middle;\n",
       "    }\n",
       "\n",
       "    .dataframe tbody tr th {\n",
       "        vertical-align: top;\n",
       "    }\n",
       "\n",
       "    .dataframe thead th {\n",
       "        text-align: right;\n",
       "    }\n",
       "</style>\n",
       "<table border=\"1\" class=\"dataframe\">\n",
       "  <thead>\n",
       "    <tr style=\"text-align: right;\">\n",
       "      <th></th>\n",
       "      <th>year</th>\n",
       "      <th>rating</th>\n",
       "      <th>gross</th>\n",
       "    </tr>\n",
       "  </thead>\n",
       "  <tbody>\n",
       "    <tr>\n",
       "      <th>count</th>\n",
       "      <td>9823.000000</td>\n",
       "      <td>5747.000000</td>\n",
       "      <td>454.000000</td>\n",
       "    </tr>\n",
       "    <tr>\n",
       "      <th>mean</th>\n",
       "      <td>1997.417490</td>\n",
       "      <td>5.947486</td>\n",
       "      <td>3.572687</td>\n",
       "    </tr>\n",
       "    <tr>\n",
       "      <th>std</th>\n",
       "      <td>14.036789</td>\n",
       "      <td>1.411049</td>\n",
       "      <td>2.470623</td>\n",
       "    </tr>\n",
       "    <tr>\n",
       "      <th>min</th>\n",
       "      <td>1970.000000</td>\n",
       "      <td>1.600000</td>\n",
       "      <td>1.000000</td>\n",
       "    </tr>\n",
       "    <tr>\n",
       "      <th>25%</th>\n",
       "      <td>1986.000000</td>\n",
       "      <td>5.000000</td>\n",
       "      <td>1.000000</td>\n",
       "    </tr>\n",
       "    <tr>\n",
       "      <th>50%</th>\n",
       "      <td>1999.000000</td>\n",
       "      <td>6.100000</td>\n",
       "      <td>3.000000</td>\n",
       "    </tr>\n",
       "    <tr>\n",
       "      <th>75%</th>\n",
       "      <td>2010.000000</td>\n",
       "      <td>7.000000</td>\n",
       "      <td>5.000000</td>\n",
       "    </tr>\n",
       "    <tr>\n",
       "      <th>max</th>\n",
       "      <td>2020.000000</td>\n",
       "      <td>10.000000</td>\n",
       "      <td>9.000000</td>\n",
       "    </tr>\n",
       "  </tbody>\n",
       "</table>\n",
       "</div>"
      ],
      "text/plain": [
       "              year       rating       gross\n",
       "count  9823.000000  5747.000000  454.000000\n",
       "mean   1997.417490     5.947486    3.572687\n",
       "std      14.036789     1.411049    2.470623\n",
       "min    1970.000000     1.600000    1.000000\n",
       "25%    1986.000000     5.000000    1.000000\n",
       "50%    1999.000000     6.100000    3.000000\n",
       "75%    2010.000000     7.000000    5.000000\n",
       "max    2020.000000    10.000000    9.000000"
      ]
     },
     "execution_count": 8,
     "metadata": {},
     "output_type": "execute_result"
    }
   ],
   "source": [
    "movies_list.describe()"
   ]
  },
  {
   "cell_type": "code",
   "execution_count": 9,
   "metadata": {},
   "outputs": [
    {
     "name": "stdout",
     "output_type": "stream",
     "text": [
      "<class 'pandas.core.frame.DataFrame'>\n",
      "RangeIndex: 10044 entries, 0 to 10043\n",
      "Data columns (total 6 columns):\n",
      "imdb_id    10044 non-null object\n",
      "title      10044 non-null object\n",
      "summary    6128 non-null object\n",
      "year       9823 non-null float64\n",
      "rating     5747 non-null float64\n",
      "gross      454 non-null float64\n",
      "dtypes: float64(3), object(3)\n",
      "memory usage: 470.9+ KB\n"
     ]
    }
   ],
   "source": [
    "movies_list.info()"
   ]
  },
  {
   "cell_type": "markdown",
   "metadata": {},
   "source": [
    "Combining datasets"
   ]
  },
  {
   "cell_type": "code",
   "execution_count": 10,
   "metadata": {},
   "outputs": [
    {
     "data": {
      "text/plain": [
       "(10044, 6)"
      ]
     },
     "execution_count": 10,
     "metadata": {},
     "output_type": "execute_result"
    }
   ],
   "source": [
    "movies_list.shape"
   ]
  },
  {
   "cell_type": "code",
   "execution_count": 11,
   "metadata": {},
   "outputs": [
    {
     "data": {
      "text/plain": [
       "9894"
      ]
     },
     "execution_count": 11,
     "metadata": {},
     "output_type": "execute_result"
    }
   ],
   "source": [
    "movies_list['imdb_id'].nunique()"
   ]
  },
  {
   "cell_type": "code",
   "execution_count": 12,
   "metadata": {},
   "outputs": [],
   "source": [
    "movies_list = movies_list.drop_duplicates(subset=['imdb_id'])"
   ]
  },
  {
   "cell_type": "code",
   "execution_count": 13,
   "metadata": {},
   "outputs": [],
   "source": [
    "movies = movies_list.join(movies_detail, on='imdb_id', how='inner')"
   ]
  },
  {
   "cell_type": "code",
   "execution_count": 14,
   "metadata": {},
   "outputs": [],
   "source": [
    "movies = movies.set_index('imdb_id')"
   ]
  },
  {
   "cell_type": "code",
   "execution_count": 15,
   "metadata": {},
   "outputs": [
    {
     "data": {
      "text/plain": [
       "(9857, 19)"
      ]
     },
     "execution_count": 15,
     "metadata": {},
     "output_type": "execute_result"
    }
   ],
   "source": [
    "movies.shape"
   ]
  },
  {
   "cell_type": "code",
   "execution_count": 16,
   "metadata": {},
   "outputs": [
    {
     "data": {
      "text/html": [
       "<div>\n",
       "<style scoped>\n",
       "    .dataframe tbody tr th:only-of-type {\n",
       "        vertical-align: middle;\n",
       "    }\n",
       "\n",
       "    .dataframe tbody tr th {\n",
       "        vertical-align: top;\n",
       "    }\n",
       "\n",
       "    .dataframe thead th {\n",
       "        text-align: right;\n",
       "    }\n",
       "</style>\n",
       "<table border=\"1\" class=\"dataframe\">\n",
       "  <thead>\n",
       "    <tr style=\"text-align: right;\">\n",
       "      <th>imdb_id</th>\n",
       "      <th>tt5474036</th>\n",
       "      <th>tt5970844</th>\n",
       "      <th>tt8108202</th>\n",
       "    </tr>\n",
       "  </thead>\n",
       "  <tbody>\n",
       "    <tr>\n",
       "      <th>title</th>\n",
       "      <td>Husband Material</td>\n",
       "      <td>Thugs of Hindostan</td>\n",
       "      <td>Stree</td>\n",
       "    </tr>\n",
       "    <tr>\n",
       "      <th>summary</th>\n",
       "      <td>The film is a love story set in Punjab where A...</td>\n",
       "      <td>NaN</td>\n",
       "      <td>In the small town of Chanderi, the menfolk liv...</td>\n",
       "    </tr>\n",
       "    <tr>\n",
       "      <th>year</th>\n",
       "      <td>2018</td>\n",
       "      <td>2018</td>\n",
       "      <td>2018</td>\n",
       "    </tr>\n",
       "    <tr>\n",
       "      <th>rating</th>\n",
       "      <td>7</td>\n",
       "      <td>NaN</td>\n",
       "      <td>8.3</td>\n",
       "    </tr>\n",
       "    <tr>\n",
       "      <th>gross</th>\n",
       "      <td>5</td>\n",
       "      <td>NaN</td>\n",
       "      <td>NaN</td>\n",
       "    </tr>\n",
       "    <tr>\n",
       "      <th>storyline</th>\n",
       "      <td>The film is a love story set in Punjab where A...</td>\n",
       "      <td>None</td>\n",
       "      <td>Chanderi village is haunted for years by a wit...</td>\n",
       "    </tr>\n",
       "    <tr>\n",
       "      <th>photo</th>\n",
       "      <td>https://m.media-amazon.com/images/M/MV5BNTU3Zj...</td>\n",
       "      <td>https://m.media-amazon.com/images/M/MV5BMTA3OD...</td>\n",
       "      <td>https://m.media-amazon.com/images/M/MV5BMjk4NG...</td>\n",
       "    </tr>\n",
       "    <tr>\n",
       "      <th>release_date</th>\n",
       "      <td>14 September 2018 (USA)</td>\n",
       "      <td>8 November 2018 (India)</td>\n",
       "      <td>31 August 2018 (USA)</td>\n",
       "    </tr>\n",
       "    <tr>\n",
       "      <th>country</th>\n",
       "      <td>[India]</td>\n",
       "      <td>[India]</td>\n",
       "      <td>[India]</td>\n",
       "    </tr>\n",
       "    <tr>\n",
       "      <th>language</th>\n",
       "      <td>[Hindi]</td>\n",
       "      <td>[Hindi, Tamil, Telugu]</td>\n",
       "      <td>[Hindi]</td>\n",
       "    </tr>\n",
       "    <tr>\n",
       "      <th>genres</th>\n",
       "      <td>[Romance]</td>\n",
       "      <td>[Action, Adventure]</td>\n",
       "      <td>[Comedy, Horror]</td>\n",
       "    </tr>\n",
       "    <tr>\n",
       "      <th>color</th>\n",
       "      <td>Color</td>\n",
       "      <td>Color</td>\n",
       "      <td>Color</td>\n",
       "    </tr>\n",
       "    <tr>\n",
       "      <th>runtime</th>\n",
       "      <td>156 min</td>\n",
       "      <td>None</td>\n",
       "      <td>128 min</td>\n",
       "    </tr>\n",
       "    <tr>\n",
       "      <th>certificate</th>\n",
       "      <td>12A|\\n »</td>\n",
       "      <td>None</td>\n",
       "      <td>15|\\n »</td>\n",
       "    </tr>\n",
       "    <tr>\n",
       "      <th>production_co</th>\n",
       "      <td>[Colour Yellow Productions]</td>\n",
       "      <td>[]</td>\n",
       "      <td>[D2R Films]</td>\n",
       "    </tr>\n",
       "    <tr>\n",
       "      <th>rate</th>\n",
       "      <td>7</td>\n",
       "      <td>NaN</td>\n",
       "      <td>8.3</td>\n",
       "    </tr>\n",
       "    <tr>\n",
       "      <th>num_ratings</th>\n",
       "      <td>1,756</td>\n",
       "      <td>None</td>\n",
       "      <td>7,531</td>\n",
       "    </tr>\n",
       "    <tr>\n",
       "      <th>plot_keywords</th>\n",
       "      <td>None</td>\n",
       "      <td>[based on novel]</td>\n",
       "      <td>[father son relationship, friendship, prostitu...</td>\n",
       "    </tr>\n",
       "    <tr>\n",
       "      <th>cast</th>\n",
       "      <td>[{'imdb_id': 'nm3966456', 'name': 'Tapsee Pann...</td>\n",
       "      <td>[{'imdb_id': 'nm0451148', 'name': 'Aamir Khan'...</td>\n",
       "      <td>[{'imdb_id': 'nm3822770', 'name': 'Rajkummar R...</td>\n",
       "    </tr>\n",
       "  </tbody>\n",
       "</table>\n",
       "</div>"
      ],
      "text/plain": [
       "imdb_id                                                tt5474036  \\\n",
       "title                                           Husband Material   \n",
       "summary        The film is a love story set in Punjab where A...   \n",
       "year                                                        2018   \n",
       "rating                                                         7   \n",
       "gross                                                          5   \n",
       "storyline      The film is a love story set in Punjab where A...   \n",
       "photo          https://m.media-amazon.com/images/M/MV5BNTU3Zj...   \n",
       "release_date                             14 September 2018 (USA)   \n",
       "country                                                  [India]   \n",
       "language                                                 [Hindi]   \n",
       "genres                                                 [Romance]   \n",
       "color                                                      Color   \n",
       "runtime                                                  156 min   \n",
       "certificate                                             12A|\\n »   \n",
       "production_co                        [Colour Yellow Productions]   \n",
       "rate                                                           7   \n",
       "num_ratings                                                1,756   \n",
       "plot_keywords                                               None   \n",
       "cast           [{'imdb_id': 'nm3966456', 'name': 'Tapsee Pann...   \n",
       "\n",
       "imdb_id                                                tt5970844  \\\n",
       "title                                         Thugs of Hindostan   \n",
       "summary                                                      NaN   \n",
       "year                                                        2018   \n",
       "rating                                                       NaN   \n",
       "gross                                                        NaN   \n",
       "storyline                                                   None   \n",
       "photo          https://m.media-amazon.com/images/M/MV5BMTA3OD...   \n",
       "release_date                             8 November 2018 (India)   \n",
       "country                                                  [India]   \n",
       "language                                  [Hindi, Tamil, Telugu]   \n",
       "genres                                       [Action, Adventure]   \n",
       "color                                                      Color   \n",
       "runtime                                                     None   \n",
       "certificate                                                 None   \n",
       "production_co                                                 []   \n",
       "rate                                                         NaN   \n",
       "num_ratings                                                 None   \n",
       "plot_keywords                                   [based on novel]   \n",
       "cast           [{'imdb_id': 'nm0451148', 'name': 'Aamir Khan'...   \n",
       "\n",
       "imdb_id                                                tt8108202  \n",
       "title                                                      Stree  \n",
       "summary        In the small town of Chanderi, the menfolk liv...  \n",
       "year                                                        2018  \n",
       "rating                                                       8.3  \n",
       "gross                                                        NaN  \n",
       "storyline      Chanderi village is haunted for years by a wit...  \n",
       "photo          https://m.media-amazon.com/images/M/MV5BMjk4NG...  \n",
       "release_date                                31 August 2018 (USA)  \n",
       "country                                                  [India]  \n",
       "language                                                 [Hindi]  \n",
       "genres                                          [Comedy, Horror]  \n",
       "color                                                      Color  \n",
       "runtime                                                  128 min  \n",
       "certificate                                              15|\\n »  \n",
       "production_co                                        [D2R Films]  \n",
       "rate                                                         8.3  \n",
       "num_ratings                                                7,531  \n",
       "plot_keywords  [father son relationship, friendship, prostitu...  \n",
       "cast           [{'imdb_id': 'nm3822770', 'name': 'Rajkummar R...  "
      ]
     },
     "execution_count": 16,
     "metadata": {},
     "output_type": "execute_result"
    }
   ],
   "source": [
    "movies.head(3).T"
   ]
  },
  {
   "cell_type": "markdown",
   "metadata": {},
   "source": [
    "Selecting data"
   ]
  },
  {
   "cell_type": "code",
   "execution_count": 17,
   "metadata": {},
   "outputs": [
    {
     "data": {
      "text/plain": [
       "\"A chance encounter of the unassuming bank receptionist Harleen Sahni with the charming yet mysterious Rajveer Nanda, results in an on-rush of ditched planes, car chases, shoot-outs, bombing raids and general global mayhem. But as the transcontinental chase ensues with Rajveer convincing Harleen that he's the good guy, can she really trust him, and will trust matter when the bullets start flying?\""
      ]
     },
     "execution_count": 17,
     "metadata": {},
     "output_type": "execute_result"
    }
   ],
   "source": [
    "movies.loc['tt2905838', 'storyline']"
   ]
  },
  {
   "cell_type": "code",
   "execution_count": 18,
   "metadata": {},
   "outputs": [
    {
     "data": {
      "text/html": [
       "<div>\n",
       "<style scoped>\n",
       "    .dataframe tbody tr th:only-of-type {\n",
       "        vertical-align: middle;\n",
       "    }\n",
       "\n",
       "    .dataframe tbody tr th {\n",
       "        vertical-align: top;\n",
       "    }\n",
       "\n",
       "    .dataframe thead th {\n",
       "        text-align: right;\n",
       "    }\n",
       "</style>\n",
       "<table border=\"1\" class=\"dataframe\">\n",
       "  <thead>\n",
       "    <tr style=\"text-align: right;\">\n",
       "      <th></th>\n",
       "      <th>title</th>\n",
       "      <th>summary</th>\n",
       "      <th>year</th>\n",
       "      <th>rating</th>\n",
       "      <th>gross</th>\n",
       "      <th>storyline</th>\n",
       "      <th>photo</th>\n",
       "      <th>release_date</th>\n",
       "      <th>country</th>\n",
       "      <th>language</th>\n",
       "      <th>genres</th>\n",
       "      <th>color</th>\n",
       "      <th>runtime</th>\n",
       "      <th>certificate</th>\n",
       "      <th>production_co</th>\n",
       "      <th>rate</th>\n",
       "      <th>num_ratings</th>\n",
       "      <th>plot_keywords</th>\n",
       "      <th>cast</th>\n",
       "    </tr>\n",
       "    <tr>\n",
       "      <th>imdb_id</th>\n",
       "      <th></th>\n",
       "      <th></th>\n",
       "      <th></th>\n",
       "      <th></th>\n",
       "      <th></th>\n",
       "      <th></th>\n",
       "      <th></th>\n",
       "      <th></th>\n",
       "      <th></th>\n",
       "      <th></th>\n",
       "      <th></th>\n",
       "      <th></th>\n",
       "      <th></th>\n",
       "      <th></th>\n",
       "      <th></th>\n",
       "      <th></th>\n",
       "      <th></th>\n",
       "      <th></th>\n",
       "      <th></th>\n",
       "    </tr>\n",
       "  </thead>\n",
       "  <tbody>\n",
       "    <tr>\n",
       "      <th>tt5474036</th>\n",
       "      <td>Husband Material</td>\n",
       "      <td>The film is a love story set in Punjab where A...</td>\n",
       "      <td>2018.0</td>\n",
       "      <td>7.0</td>\n",
       "      <td>5.0</td>\n",
       "      <td>The film is a love story set in Punjab where A...</td>\n",
       "      <td>https://m.media-amazon.com/images/M/MV5BNTU3Zj...</td>\n",
       "      <td>14 September 2018 (USA)</td>\n",
       "      <td>[India]</td>\n",
       "      <td>[Hindi]</td>\n",
       "      <td>[Romance]</td>\n",
       "      <td>Color</td>\n",
       "      <td>156 min</td>\n",
       "      <td>12A|\\n »</td>\n",
       "      <td>[Colour Yellow Productions]</td>\n",
       "      <td>7.0</td>\n",
       "      <td>1,756</td>\n",
       "      <td>None</td>\n",
       "      <td>[{'imdb_id': 'nm3966456', 'name': 'Tapsee Pann...</td>\n",
       "    </tr>\n",
       "    <tr>\n",
       "      <th>tt5970844</th>\n",
       "      <td>Thugs of Hindostan</td>\n",
       "      <td>NaN</td>\n",
       "      <td>2018.0</td>\n",
       "      <td>NaN</td>\n",
       "      <td>NaN</td>\n",
       "      <td>None</td>\n",
       "      <td>https://m.media-amazon.com/images/M/MV5BMTA3OD...</td>\n",
       "      <td>8 November 2018 (India)</td>\n",
       "      <td>[India]</td>\n",
       "      <td>[Hindi, Tamil, Telugu]</td>\n",
       "      <td>[Action, Adventure]</td>\n",
       "      <td>Color</td>\n",
       "      <td>None</td>\n",
       "      <td>None</td>\n",
       "      <td>[]</td>\n",
       "      <td>NaN</td>\n",
       "      <td>None</td>\n",
       "      <td>[based on novel]</td>\n",
       "      <td>[{'imdb_id': 'nm0451148', 'name': 'Aamir Khan'...</td>\n",
       "    </tr>\n",
       "    <tr>\n",
       "      <th>tt8108202</th>\n",
       "      <td>Stree</td>\n",
       "      <td>In the small town of Chanderi, the menfolk liv...</td>\n",
       "      <td>2018.0</td>\n",
       "      <td>8.3</td>\n",
       "      <td>NaN</td>\n",
       "      <td>Chanderi village is haunted for years by a wit...</td>\n",
       "      <td>https://m.media-amazon.com/images/M/MV5BMjk4NG...</td>\n",
       "      <td>31 August 2018 (USA)</td>\n",
       "      <td>[India]</td>\n",
       "      <td>[Hindi]</td>\n",
       "      <td>[Comedy, Horror]</td>\n",
       "      <td>Color</td>\n",
       "      <td>128 min</td>\n",
       "      <td>15|\\n »</td>\n",
       "      <td>[D2R Films]</td>\n",
       "      <td>8.3</td>\n",
       "      <td>7,531</td>\n",
       "      <td>[father son relationship, friendship, prostitu...</td>\n",
       "      <td>[{'imdb_id': 'nm3822770', 'name': 'Rajkummar R...</td>\n",
       "    </tr>\n",
       "    <tr>\n",
       "      <th>tt7720922</th>\n",
       "      <td>Batti Gul Meter Chalu</td>\n",
       "      <td>A social movie about escalating electric bills.</td>\n",
       "      <td>2018.0</td>\n",
       "      <td>6.4</td>\n",
       "      <td>1.0</td>\n",
       "      <td>S.K, Nauti, and Tripathi are childhood friends...</td>\n",
       "      <td>https://m.media-amazon.com/images/M/MV5BNzdiNW...</td>\n",
       "      <td>21 September 2018 (USA)</td>\n",
       "      <td>[India]</td>\n",
       "      <td>[Hindi]</td>\n",
       "      <td>[Drama]</td>\n",
       "      <td>Color</td>\n",
       "      <td>161 min</td>\n",
       "      <td>PG|\\n »</td>\n",
       "      <td>[Krti Pictures]</td>\n",
       "      <td>6.4</td>\n",
       "      <td>1,410</td>\n",
       "      <td>None</td>\n",
       "      <td>[{'imdb_id': 'nm1372788', 'name': 'Shahid Kapo...</td>\n",
       "    </tr>\n",
       "    <tr>\n",
       "      <th>tt5080556</th>\n",
       "      <td>2.0</td>\n",
       "      <td>Dr. Vaseegaran is forced to reassemble Chitti ...</td>\n",
       "      <td>2018.0</td>\n",
       "      <td>NaN</td>\n",
       "      <td>NaN</td>\n",
       "      <td>Dr. Vaseegaran is forced to reassemble Chitti ...</td>\n",
       "      <td>https://m.media-amazon.com/images/M/MV5BZDE4MG...</td>\n",
       "      <td>29 November 2018 (India)</td>\n",
       "      <td>[India]</td>\n",
       "      <td>[Tamil, Telugu, Hindi]</td>\n",
       "      <td>[Action, Sci-Fi, Thriller]</td>\n",
       "      <td>Color</td>\n",
       "      <td>None</td>\n",
       "      <td>None</td>\n",
       "      <td>[Dakshaa]</td>\n",
       "      <td>NaN</td>\n",
       "      <td>None</td>\n",
       "      <td>[sequel, robot]</td>\n",
       "      <td>[{'imdb_id': 'nm0707425', 'name': 'Rajinikanth...</td>\n",
       "    </tr>\n",
       "  </tbody>\n",
       "</table>\n",
       "</div>"
      ],
      "text/plain": [
       "                           title  \\\n",
       "imdb_id                            \n",
       "tt5474036       Husband Material   \n",
       "tt5970844     Thugs of Hindostan   \n",
       "tt8108202                  Stree   \n",
       "tt7720922  Batti Gul Meter Chalu   \n",
       "tt5080556                    2.0   \n",
       "\n",
       "                                                     summary    year  rating  \\\n",
       "imdb_id                                                                        \n",
       "tt5474036  The film is a love story set in Punjab where A...  2018.0     7.0   \n",
       "tt5970844                                                NaN  2018.0     NaN   \n",
       "tt8108202  In the small town of Chanderi, the menfolk liv...  2018.0     8.3   \n",
       "tt7720922    A social movie about escalating electric bills.  2018.0     6.4   \n",
       "tt5080556  Dr. Vaseegaran is forced to reassemble Chitti ...  2018.0     NaN   \n",
       "\n",
       "           gross                                          storyline  \\\n",
       "imdb_id                                                               \n",
       "tt5474036    5.0  The film is a love story set in Punjab where A...   \n",
       "tt5970844    NaN                                               None   \n",
       "tt8108202    NaN  Chanderi village is haunted for years by a wit...   \n",
       "tt7720922    1.0  S.K, Nauti, and Tripathi are childhood friends...   \n",
       "tt5080556    NaN  Dr. Vaseegaran is forced to reassemble Chitti ...   \n",
       "\n",
       "                                                       photo  \\\n",
       "imdb_id                                                        \n",
       "tt5474036  https://m.media-amazon.com/images/M/MV5BNTU3Zj...   \n",
       "tt5970844  https://m.media-amazon.com/images/M/MV5BMTA3OD...   \n",
       "tt8108202  https://m.media-amazon.com/images/M/MV5BMjk4NG...   \n",
       "tt7720922  https://m.media-amazon.com/images/M/MV5BNzdiNW...   \n",
       "tt5080556  https://m.media-amazon.com/images/M/MV5BZDE4MG...   \n",
       "\n",
       "                       release_date  country                language  \\\n",
       "imdb_id                                                                \n",
       "tt5474036   14 September 2018 (USA)  [India]                 [Hindi]   \n",
       "tt5970844   8 November 2018 (India)  [India]  [Hindi, Tamil, Telugu]   \n",
       "tt8108202      31 August 2018 (USA)  [India]                 [Hindi]   \n",
       "tt7720922   21 September 2018 (USA)  [India]                 [Hindi]   \n",
       "tt5080556  29 November 2018 (India)  [India]  [Tamil, Telugu, Hindi]   \n",
       "\n",
       "                               genres  color  runtime certificate  \\\n",
       "imdb_id                                                             \n",
       "tt5474036                   [Romance]  Color  156 min    12A|\\n »   \n",
       "tt5970844         [Action, Adventure]  Color     None        None   \n",
       "tt8108202            [Comedy, Horror]  Color  128 min     15|\\n »   \n",
       "tt7720922                     [Drama]  Color  161 min     PG|\\n »   \n",
       "tt5080556  [Action, Sci-Fi, Thriller]  Color     None        None   \n",
       "\n",
       "                         production_co  rate num_ratings  \\\n",
       "imdb_id                                                    \n",
       "tt5474036  [Colour Yellow Productions]   7.0       1,756   \n",
       "tt5970844                           []   NaN        None   \n",
       "tt8108202                  [D2R Films]   8.3       7,531   \n",
       "tt7720922              [Krti Pictures]   6.4       1,410   \n",
       "tt5080556                    [Dakshaa]   NaN        None   \n",
       "\n",
       "                                               plot_keywords  \\\n",
       "imdb_id                                                        \n",
       "tt5474036                                               None   \n",
       "tt5970844                                   [based on novel]   \n",
       "tt8108202  [father son relationship, friendship, prostitu...   \n",
       "tt7720922                                               None   \n",
       "tt5080556                                    [sequel, robot]   \n",
       "\n",
       "                                                        cast  \n",
       "imdb_id                                                       \n",
       "tt5474036  [{'imdb_id': 'nm3966456', 'name': 'Tapsee Pann...  \n",
       "tt5970844  [{'imdb_id': 'nm0451148', 'name': 'Aamir Khan'...  \n",
       "tt8108202  [{'imdb_id': 'nm3822770', 'name': 'Rajkummar R...  \n",
       "tt7720922  [{'imdb_id': 'nm1372788', 'name': 'Shahid Kapo...  \n",
       "tt5080556  [{'imdb_id': 'nm0707425', 'name': 'Rajinikanth...  "
      ]
     },
     "execution_count": 18,
     "metadata": {},
     "output_type": "execute_result"
    }
   ],
   "source": [
    "movies.head()"
   ]
  },
  {
   "cell_type": "code",
   "execution_count": 19,
   "metadata": {},
   "outputs": [
    {
     "data": {
      "text/html": [
       "<div>\n",
       "<style scoped>\n",
       "    .dataframe tbody tr th:only-of-type {\n",
       "        vertical-align: middle;\n",
       "    }\n",
       "\n",
       "    .dataframe tbody tr th {\n",
       "        vertical-align: top;\n",
       "    }\n",
       "\n",
       "    .dataframe thead th {\n",
       "        text-align: right;\n",
       "    }\n",
       "</style>\n",
       "<table border=\"1\" class=\"dataframe\">\n",
       "  <thead>\n",
       "    <tr style=\"text-align: right;\">\n",
       "      <th></th>\n",
       "      <th>title</th>\n",
       "      <th>summary</th>\n",
       "      <th>year</th>\n",
       "      <th>rating</th>\n",
       "      <th>gross</th>\n",
       "      <th>storyline</th>\n",
       "      <th>photo</th>\n",
       "      <th>release_date</th>\n",
       "      <th>country</th>\n",
       "      <th>language</th>\n",
       "      <th>genres</th>\n",
       "      <th>color</th>\n",
       "      <th>runtime</th>\n",
       "      <th>certificate</th>\n",
       "      <th>production_co</th>\n",
       "      <th>rate</th>\n",
       "      <th>num_ratings</th>\n",
       "      <th>plot_keywords</th>\n",
       "      <th>cast</th>\n",
       "    </tr>\n",
       "    <tr>\n",
       "      <th>imdb_id</th>\n",
       "      <th></th>\n",
       "      <th></th>\n",
       "      <th></th>\n",
       "      <th></th>\n",
       "      <th></th>\n",
       "      <th></th>\n",
       "      <th></th>\n",
       "      <th></th>\n",
       "      <th></th>\n",
       "      <th></th>\n",
       "      <th></th>\n",
       "      <th></th>\n",
       "      <th></th>\n",
       "      <th></th>\n",
       "      <th></th>\n",
       "      <th></th>\n",
       "      <th></th>\n",
       "      <th></th>\n",
       "      <th></th>\n",
       "    </tr>\n",
       "  </thead>\n",
       "  <tbody>\n",
       "    <tr>\n",
       "      <th>tt8551394</th>\n",
       "      <td>Kathor</td>\n",
       "      <td>Neelkanth chaturvedi is 55 years old . He is a...</td>\n",
       "      <td>2018.0</td>\n",
       "      <td>9.6</td>\n",
       "      <td>NaN</td>\n",
       "      <td>Neelkanth chaturvedi is 55 years old . He is a...</td>\n",
       "      <td>https://m.media-amazon.com/images/M/MV5BNDhkNW...</td>\n",
       "      <td>2018 (India)</td>\n",
       "      <td>[India]</td>\n",
       "      <td>[Hindi]</td>\n",
       "      <td>[Drama]</td>\n",
       "      <td>Color</td>\n",
       "      <td>None</td>\n",
       "      <td>None</td>\n",
       "      <td>[]</td>\n",
       "      <td>9.6</td>\n",
       "      <td>5</td>\n",
       "      <td>None</td>\n",
       "      <td>[{'imdb_id': 'nm1391032', 'name': 'Lalit Parim...</td>\n",
       "    </tr>\n",
       "    <tr>\n",
       "      <th>tt9059202</th>\n",
       "      <td>Kuch Der Aur</td>\n",
       "      <td>NaN</td>\n",
       "      <td>2018.0</td>\n",
       "      <td>10.0</td>\n",
       "      <td>NaN</td>\n",
       "      <td>None</td>\n",
       "      <td>None</td>\n",
       "      <td>30 September 2018 (India)</td>\n",
       "      <td>[India]</td>\n",
       "      <td>[Hindi]</td>\n",
       "      <td>[Drama]</td>\n",
       "      <td>Color</td>\n",
       "      <td>65 min</td>\n",
       "      <td>None</td>\n",
       "      <td>[]</td>\n",
       "      <td>10.0</td>\n",
       "      <td>5</td>\n",
       "      <td>None</td>\n",
       "      <td>[{'imdb_id': 'nm10156491', 'name': 'Meenu Kawa...</td>\n",
       "    </tr>\n",
       "  </tbody>\n",
       "</table>\n",
       "</div>"
      ],
      "text/plain": [
       "                  title                                            summary  \\\n",
       "imdb_id                                                                      \n",
       "tt8551394        Kathor  Neelkanth chaturvedi is 55 years old . He is a...   \n",
       "tt9059202  Kuch Der Aur                                                NaN   \n",
       "\n",
       "             year  rating  gross  \\\n",
       "imdb_id                            \n",
       "tt8551394  2018.0     9.6    NaN   \n",
       "tt9059202  2018.0    10.0    NaN   \n",
       "\n",
       "                                                   storyline  \\\n",
       "imdb_id                                                        \n",
       "tt8551394  Neelkanth chaturvedi is 55 years old . He is a...   \n",
       "tt9059202                                               None   \n",
       "\n",
       "                                                       photo  \\\n",
       "imdb_id                                                        \n",
       "tt8551394  https://m.media-amazon.com/images/M/MV5BNDhkNW...   \n",
       "tt9059202                                               None   \n",
       "\n",
       "                        release_date  country language   genres  color  \\\n",
       "imdb_id                                                                  \n",
       "tt8551394               2018 (India)  [India]  [Hindi]  [Drama]  Color   \n",
       "tt9059202  30 September 2018 (India)  [India]  [Hindi]  [Drama]  Color   \n",
       "\n",
       "          runtime certificate production_co  rate num_ratings plot_keywords  \\\n",
       "imdb_id                                                                       \n",
       "tt8551394    None        None            []   9.6           5          None   \n",
       "tt9059202  65 min        None            []  10.0           5          None   \n",
       "\n",
       "                                                        cast  \n",
       "imdb_id                                                       \n",
       "tt8551394  [{'imdb_id': 'nm1391032', 'name': 'Lalit Parim...  \n",
       "tt9059202  [{'imdb_id': 'nm10156491', 'name': 'Meenu Kawa...  "
      ]
     },
     "execution_count": 19,
     "metadata": {},
     "output_type": "execute_result"
    }
   ],
   "source": [
    "movies[(movies.rate > 9.5) & (movies.title.str.startswith('K'))]"
   ]
  },
  {
   "cell_type": "markdown",
   "metadata": {},
   "source": [
    "Checking data"
   ]
  },
  {
   "cell_type": "code",
   "execution_count": 20,
   "metadata": {},
   "outputs": [
    {
     "data": {
      "text/html": [
       "<div>\n",
       "<style scoped>\n",
       "    .dataframe tbody tr th:only-of-type {\n",
       "        vertical-align: middle;\n",
       "    }\n",
       "\n",
       "    .dataframe tbody tr th {\n",
       "        vertical-align: top;\n",
       "    }\n",
       "\n",
       "    .dataframe thead th {\n",
       "        text-align: right;\n",
       "    }\n",
       "</style>\n",
       "<table border=\"1\" class=\"dataframe\">\n",
       "  <thead>\n",
       "    <tr style=\"text-align: right;\">\n",
       "      <th></th>\n",
       "      <th>rate</th>\n",
       "      <th>rating</th>\n",
       "    </tr>\n",
       "    <tr>\n",
       "      <th>imdb_id</th>\n",
       "      <th></th>\n",
       "      <th></th>\n",
       "    </tr>\n",
       "  </thead>\n",
       "  <tbody>\n",
       "    <tr>\n",
       "      <th>tt5474036</th>\n",
       "      <td>7.0</td>\n",
       "      <td>7.0</td>\n",
       "    </tr>\n",
       "    <tr>\n",
       "      <th>tt5970844</th>\n",
       "      <td>NaN</td>\n",
       "      <td>NaN</td>\n",
       "    </tr>\n",
       "    <tr>\n",
       "      <th>tt8108202</th>\n",
       "      <td>8.3</td>\n",
       "      <td>8.3</td>\n",
       "    </tr>\n",
       "    <tr>\n",
       "      <th>tt7720922</th>\n",
       "      <td>6.4</td>\n",
       "      <td>6.4</td>\n",
       "    </tr>\n",
       "    <tr>\n",
       "      <th>tt5080556</th>\n",
       "      <td>NaN</td>\n",
       "      <td>NaN</td>\n",
       "    </tr>\n",
       "  </tbody>\n",
       "</table>\n",
       "</div>"
      ],
      "text/plain": [
       "           rate  rating\n",
       "imdb_id                \n",
       "tt5474036   7.0     7.0\n",
       "tt5970844   NaN     NaN\n",
       "tt8108202   8.3     8.3\n",
       "tt7720922   6.4     6.4\n",
       "tt5080556   NaN     NaN"
      ]
     },
     "execution_count": 20,
     "metadata": {},
     "output_type": "execute_result"
    }
   ],
   "source": [
    "movies[['rate', 'rating']].head()"
   ]
  },
  {
   "cell_type": "code",
   "execution_count": 21,
   "metadata": {},
   "outputs": [
    {
     "data": {
      "text/plain": [
       "False"
      ]
     },
     "execution_count": 21,
     "metadata": {},
     "output_type": "execute_result"
    }
   ],
   "source": [
    "movies['rate'].equals(movies['rating'])"
   ]
  },
  {
   "cell_type": "code",
   "execution_count": 22,
   "metadata": {},
   "outputs": [
    {
     "data": {
      "text/plain": [
       "rate      1.6\n",
       "rating    1.6\n",
       "dtype: float64"
      ]
     },
     "execution_count": 22,
     "metadata": {},
     "output_type": "execute_result"
    }
   ],
   "source": [
    "rates = movies[['rate', 'rating']]\n",
    "rates.min()"
   ]
  },
  {
   "cell_type": "code",
   "execution_count": 23,
   "metadata": {},
   "outputs": [
    {
     "data": {
      "text/plain": [
       "3"
      ]
     },
     "execution_count": 23,
     "metadata": {},
     "output_type": "execute_result"
    }
   ],
   "source": [
    "rates = rates.fillna(0.)\n",
    "(rates['rate'] != rates['rating']).sum()"
   ]
  },
  {
   "cell_type": "code",
   "execution_count": 24,
   "metadata": {},
   "outputs": [
    {
     "data": {
      "text/html": [
       "<div>\n",
       "<style scoped>\n",
       "    .dataframe tbody tr th:only-of-type {\n",
       "        vertical-align: middle;\n",
       "    }\n",
       "\n",
       "    .dataframe tbody tr th {\n",
       "        vertical-align: top;\n",
       "    }\n",
       "\n",
       "    .dataframe thead th {\n",
       "        text-align: right;\n",
       "    }\n",
       "</style>\n",
       "<table border=\"1\" class=\"dataframe\">\n",
       "  <thead>\n",
       "    <tr style=\"text-align: right;\">\n",
       "      <th></th>\n",
       "      <th>title</th>\n",
       "      <th>rate</th>\n",
       "      <th>rating</th>\n",
       "    </tr>\n",
       "    <tr>\n",
       "      <th>imdb_id</th>\n",
       "      <th></th>\n",
       "      <th></th>\n",
       "      <th></th>\n",
       "    </tr>\n",
       "  </thead>\n",
       "  <tbody>\n",
       "    <tr>\n",
       "      <th>tt4232066</th>\n",
       "      <td>Once Again</td>\n",
       "      <td>7.4</td>\n",
       "      <td>7.5</td>\n",
       "    </tr>\n",
       "    <tr>\n",
       "      <th>tt8396128</th>\n",
       "      <td>Pataakha</td>\n",
       "      <td>7.9</td>\n",
       "      <td>8.0</td>\n",
       "    </tr>\n",
       "    <tr>\n",
       "      <th>tt2344678</th>\n",
       "      <td>Brave Man</td>\n",
       "      <td>1.7</td>\n",
       "      <td>1.7</td>\n",
       "    </tr>\n",
       "  </tbody>\n",
       "</table>\n",
       "</div>"
      ],
      "text/plain": [
       "                title  rate  rating\n",
       "imdb_id                            \n",
       "tt4232066  Once Again   7.4     7.5\n",
       "tt8396128    Pataakha   7.9     8.0\n",
       "tt2344678   Brave Man   1.7     1.7"
      ]
     },
     "execution_count": 24,
     "metadata": {},
     "output_type": "execute_result"
    }
   ],
   "source": [
    "movies.loc[rates['rate'] != rates['rating'], ['title', 'rate', 'rating']]"
   ]
  },
  {
   "cell_type": "code",
   "execution_count": 25,
   "metadata": {},
   "outputs": [],
   "source": [
    "del movies['rating']"
   ]
  },
  {
   "cell_type": "markdown",
   "metadata": {},
   "source": [
    "Extracting information"
   ]
  },
  {
   "cell_type": "code",
   "execution_count": 26,
   "metadata": {},
   "outputs": [
    {
     "data": {
      "text/plain": [
       "imdb_id\n",
       "tt5474036    1,756\n",
       "tt5970844     None\n",
       "tt8108202    7,531\n",
       "tt7720922    1,410\n",
       "tt5080556     None\n",
       "Name: num_ratings, dtype: object"
      ]
     },
     "execution_count": 26,
     "metadata": {},
     "output_type": "execute_result"
    }
   ],
   "source": [
    "movies['num_ratings'].head()"
   ]
  },
  {
   "cell_type": "code",
   "execution_count": 27,
   "metadata": {},
   "outputs": [
    {
     "data": {
      "text/plain": [
       "imdb_id\n",
       "tt5474036    1756.0\n",
       "tt5970844       NaN\n",
       "tt8108202    7531.0\n",
       "tt7720922    1410.0\n",
       "tt5080556       NaN\n",
       "Name: num_ratings, dtype: float64"
      ]
     },
     "execution_count": 27,
     "metadata": {},
     "output_type": "execute_result"
    }
   ],
   "source": [
    "movies['num_ratings'] = movies['num_ratings'].str.replace(',', '').astype(float)\n",
    "movies['num_ratings'].head()"
   ]
  },
  {
   "cell_type": "code",
   "execution_count": 28,
   "metadata": {},
   "outputs": [
    {
     "data": {
      "text/plain": [
       "imdb_id\n",
       "tt5474036   2018-09-14\n",
       "tt5970844   2018-11-08\n",
       "tt8108202   2018-08-31\n",
       "tt7720922   2018-09-21\n",
       "tt5080556   2018-11-29\n",
       "Name: release_date, dtype: datetime64[ns]"
      ]
     },
     "execution_count": 28,
     "metadata": {},
     "output_type": "execute_result"
    }
   ],
   "source": [
    "movies['release_date'] = pandas.to_datetime(movies['release_date'].str.extract('^(\\d+ \\w+ \\d+)', expand=False))\n",
    "movies['release_date'].head()"
   ]
  },
  {
   "cell_type": "code",
   "execution_count": 29,
   "metadata": {},
   "outputs": [],
   "source": [
    "movies['runtime'] = movies['runtime'].str.extract('(\\d+) min$', expand=False).astype(float)"
   ]
  },
  {
   "cell_type": "code",
   "execution_count": 30,
   "metadata": {},
   "outputs": [
    {
     "data": {
      "text/plain": [
       "'{\"imdb_id\":\"tt5474036\",\"title\":\"Husband Material\",\"summary\":\"The film is a love story set in Punjab where Abhishek Bachchan, Taapsee Pannu, and Vicky Kaushal will be seen in prominent roles.\",\"year\":2018.0,\"gross\":5.0,\"storyline\":\"The film is a love story set in Punjab where Abhishek Bachchan, Taapsee Pannu, and Vicky Kaushal will be seen in prominent roles.\",\"photo\":\"https:\\\\/\\\\/m.media-amazon.com\\\\/images\\\\/M\\\\/MV5BNTU3ZjEzMTYtYThjMC00ZjljLWJjYjEtZGU5M2U5ODcwNTY4XkEyXkFqcGdeQXVyNTE4ODU0NzA@._V1_UX182_CR0,0,182,268_AL_.jpg\",\"release_date\":1536883200000,\"country\":[\"India\"],\"language\":[\"Hindi\"],\"genres\":[\"Romance\"],\"color\":\"Color\",\"runtime\":156.0,\"certificate\":\"12A|\\\\n\\\\u00a0\\\\u00bb\",\"production_co\":[\"Colour Yellow Productions\"],\"rate\":7.0,\"num_ratings\":1756.0,\"plot_keywords\":null,\"cast\":[{\"imdb_id\":\"nm3966456\",\"name\":\"Tapsee Pannu\",\"link\":\"\\\\/name\\\\/nm3966456\\\\/?ref_=tt_cl_t1\"},{\"imdb_id\":\"nm5817249\",\"name\":\"Vicky Kaushal\",\"link\":\"\\\\/name\\\\/nm5817249\\\\/?ref_=tt_cl_t2\"},{\"imdb_id\":\"nm0045393\",\"name\":\"Abhishek Bachchan\",\"link\":\"\\\\/name\\\\/nm0045393\\\\/?ref_=tt_cl_t3\"},{\"imdb_id\":\"nm9709863\",\"name\":\"Abdul Quadir Amin\",\"link\":\"\\\\/name\\\\/nm9709863\\\\/?ref_=tt_cl_t4\"},{\"imdb_id\":\"nm8485910\",\"name\":\"Saurabh Sachdeva\",\"link\":\"\\\\/name\\\\/nm8485910\\\\/?ref_=tt_cl_t5\"},{\"imdb_id\":\"nm5092725\",\"name\":\"Ashnoor Kaur\",\"link\":\"\\\\/name\\\\/nm5092725\\\\/?ref_=tt_cl_t6\"},{\"imdb_id\":\"nm10114300\",\"name\":\"Gaurav Amlani\",\"link\":\"\\\\/name\\\\/nm10114300\\\\/?ref_=tt_cl_t7\"},{\"imdb_id\":\"nm4375423\",\"name\":\"Sukhmani Sadana\",\"link\":\"\\\\/name\\\\/nm4375423\\\\/?ref_=tt_cl_t8\"},{\"imdb_id\":\"nm10069485\",\"name\":\"Zebby Singh\",\"link\":\"\\\\/name\\\\/nm10069485\\\\/?ref_=tt_cl_t9\"},{\"imdb_id\":\"nm0050187\",\"name\":\"Arun Bali\",\"link\":\"\\\\/name\\\\/nm0050187\\\\/?ref_=tt_cl_t10\"},{\"imdb_id\":\"nm5843593\",\"name\":\"Vikram Kochhar\",\"link\":\"\\\\/name\\\\/nm5843593\\\\/?ref_=tt_cl_t11\"},{\"imdb_id\":\"nm9142397\",\"name\":\"Poonam Shah\",\"link\":\"\\\\/name\\\\/nm9142397\\\\/?ref_=tt_cl_t12\"},{\"imdb_id\":\"nm1572643\",\"name\":\"Neelu Kohli\",\"link\":\"\\\\/name\\\\/nm1572643\\\\/?ref_=tt_cl_t13\"},{\"imdb_id\":\"nm9142396\",\"name\":\"Priyanka Shah\",\"link\":\"\\\\/name\\\\/nm9142396\\\\/?ref_=tt_cl_t14\"},{\"imdb_id\":\"nm7984277\",\"name\":\"Arshpreet Singh\",\"link\":\"\\\\/name\\\\/nm7984277\\\\/?ref_=tt_cl_t15\"}]}'"
      ]
     },
     "execution_count": 30,
     "metadata": {},
     "output_type": "execute_result"
    }
   ],
   "source": [
    "movies.head(1).reset_index().to_json(orient='records', lines=True)"
   ]
  },
  {
   "cell_type": "code",
   "execution_count": 31,
   "metadata": {},
   "outputs": [],
   "source": [
    "movies.reset_index().to_json('data/movies_clean.jsonl.bz2', orient='records', lines=True, compression='bz2')"
   ]
  },
  {
   "cell_type": "markdown",
   "metadata": {},
   "source": [
    "### Part II: Data analysis"
   ]
  },
  {
   "cell_type": "markdown",
   "metadata": {},
   "source": [
    "Highest rated movies"
   ]
  },
  {
   "cell_type": "code",
   "execution_count": 32,
   "metadata": {},
   "outputs": [
    {
     "data": {
      "text/html": [
       "<div>\n",
       "<style scoped>\n",
       "    .dataframe tbody tr th:only-of-type {\n",
       "        vertical-align: middle;\n",
       "    }\n",
       "\n",
       "    .dataframe tbody tr th {\n",
       "        vertical-align: top;\n",
       "    }\n",
       "\n",
       "    .dataframe thead th {\n",
       "        text-align: right;\n",
       "    }\n",
       "</style>\n",
       "<table border=\"1\" class=\"dataframe\">\n",
       "  <thead>\n",
       "    <tr style=\"text-align: right;\">\n",
       "      <th></th>\n",
       "      <th>title</th>\n",
       "      <th>rate</th>\n",
       "      <th>num_ratings</th>\n",
       "      <th>release_date</th>\n",
       "    </tr>\n",
       "    <tr>\n",
       "      <th>imdb_id</th>\n",
       "      <th></th>\n",
       "      <th></th>\n",
       "      <th></th>\n",
       "      <th></th>\n",
       "    </tr>\n",
       "  </thead>\n",
       "  <tbody>\n",
       "    <tr>\n",
       "      <th>tt9059202</th>\n",
       "      <td>Kuch Der Aur</td>\n",
       "      <td>10.0</td>\n",
       "      <td>5.0</td>\n",
       "      <td>2018-09-30</td>\n",
       "    </tr>\n",
       "    <tr>\n",
       "      <th>tt7028460</th>\n",
       "      <td>Three and a Half</td>\n",
       "      <td>9.7</td>\n",
       "      <td>95.0</td>\n",
       "      <td>2018-07-17</td>\n",
       "    </tr>\n",
       "    <tr>\n",
       "      <th>tt8551394</th>\n",
       "      <td>Kathor</td>\n",
       "      <td>9.6</td>\n",
       "      <td>5.0</td>\n",
       "      <td>NaT</td>\n",
       "    </tr>\n",
       "    <tr>\n",
       "      <th>tt4946222</th>\n",
       "      <td>Man on Mission Fauladi</td>\n",
       "      <td>9.4</td>\n",
       "      <td>64.0</td>\n",
       "      <td>2004-01-01</td>\n",
       "    </tr>\n",
       "    <tr>\n",
       "      <th>tt8453246</th>\n",
       "      <td>Jhakaas!</td>\n",
       "      <td>9.4</td>\n",
       "      <td>5.0</td>\n",
       "      <td>2018-09-13</td>\n",
       "    </tr>\n",
       "    <tr>\n",
       "      <th>tt7282370</th>\n",
       "      <td>Who</td>\n",
       "      <td>9.4</td>\n",
       "      <td>19.0</td>\n",
       "      <td>2018-10-25</td>\n",
       "    </tr>\n",
       "    <tr>\n",
       "      <th>tt4944418</th>\n",
       "      <td>Man On Mission Jaanbaaz</td>\n",
       "      <td>9.4</td>\n",
       "      <td>68.0</td>\n",
       "      <td>2005-01-01</td>\n",
       "    </tr>\n",
       "    <tr>\n",
       "      <th>tt5963908</th>\n",
       "      <td>T for Taj Mahal</td>\n",
       "      <td>9.3</td>\n",
       "      <td>71.0</td>\n",
       "      <td>2018-06-23</td>\n",
       "    </tr>\n",
       "    <tr>\n",
       "      <th>tt8080354</th>\n",
       "      <td>Mitti-back to roots</td>\n",
       "      <td>9.3</td>\n",
       "      <td>30.0</td>\n",
       "      <td>2018-01-26</td>\n",
       "    </tr>\n",
       "    <tr>\n",
       "      <th>tt7613166</th>\n",
       "      <td>Dhh</td>\n",
       "      <td>9.2</td>\n",
       "      <td>30.0</td>\n",
       "      <td>2018-09-28</td>\n",
       "    </tr>\n",
       "  </tbody>\n",
       "</table>\n",
       "</div>"
      ],
      "text/plain": [
       "                             title  rate  num_ratings release_date\n",
       "imdb_id                                                           \n",
       "tt9059202             Kuch Der Aur  10.0          5.0   2018-09-30\n",
       "tt7028460         Three and a Half   9.7         95.0   2018-07-17\n",
       "tt8551394                   Kathor   9.6          5.0          NaT\n",
       "tt4946222   Man on Mission Fauladi   9.4         64.0   2004-01-01\n",
       "tt8453246                 Jhakaas!   9.4          5.0   2018-09-13\n",
       "tt7282370                      Who   9.4         19.0   2018-10-25\n",
       "tt4944418  Man On Mission Jaanbaaz   9.4         68.0   2005-01-01\n",
       "tt5963908          T for Taj Mahal   9.3         71.0   2018-06-23\n",
       "tt8080354      Mitti-back to roots   9.3         30.0   2018-01-26\n",
       "tt7613166                      Dhh   9.2         30.0   2018-09-28"
      ]
     },
     "execution_count": 32,
     "metadata": {},
     "output_type": "execute_result"
    }
   ],
   "source": [
    "movies.sort_values('rate', ascending=False).head(10)[['title', 'rate', 'num_ratings', 'release_date']]"
   ]
  },
  {
   "cell_type": "code",
   "execution_count": 33,
   "metadata": {},
   "outputs": [
    {
     "name": "stdout",
     "output_type": "stream",
     "text": [
      "7.97 ms ± 548 µs per loop (mean ± std. dev. of 7 runs, 100 loops each)\n"
     ]
    }
   ],
   "source": [
    "%timeit movies.nlargest(10, 'rate')"
   ]
  },
  {
   "cell_type": "code",
   "execution_count": 34,
   "metadata": {},
   "outputs": [
    {
     "name": "stdout",
     "output_type": "stream",
     "text": [
      "6.14 ms ± 94.2 µs per loop (mean ± std. dev. of 7 runs, 100 loops each)\n"
     ]
    }
   ],
   "source": [
    "%timeit movies.sort_values('rate', ascending=False).head(10)"
   ]
  },
  {
   "cell_type": "code",
   "execution_count": 35,
   "metadata": {},
   "outputs": [
    {
     "data": {
      "text/plain": [
       "count      5609.000000\n",
       "mean       1866.771617\n",
       "std       12248.980281\n",
       "min           5.000000\n",
       "25%          18.000000\n",
       "50%          68.000000\n",
       "75%         521.000000\n",
       "max      722712.000000\n",
       "Name: num_ratings, dtype: float64"
      ]
     },
     "execution_count": 35,
     "metadata": {},
     "output_type": "execute_result"
    }
   ],
   "source": [
    "movies['num_ratings'].describe()"
   ]
  },
  {
   "cell_type": "code",
   "execution_count": 36,
   "metadata": {},
   "outputs": [
    {
     "data": {
      "text/plain": [
       "<matplotlib.axes._subplots.AxesSubplot at 0x7fe393d27208>"
      ]
     },
     "execution_count": 36,
     "metadata": {},
     "output_type": "execute_result"
    },
    {
     "data": {
      "image/png": "[encoded data removed]",
      "text/plain": [
       "<Figure size 432x288 with 1 Axes>"
      ]
     },
     "metadata": {},
     "output_type": "display_data"
    }
   ],
   "source": [
    "%matplotlib inline\n",
    "movies['num_ratings'].hist()"
   ]
  },
  {
   "cell_type": "code",
   "execution_count": 37,
   "metadata": {},
   "outputs": [
    {
     "data": {
      "text/plain": [
       "<matplotlib.axes._subplots.AxesSubplot at 0x7fe393ce4240>"
      ]
     },
     "execution_count": 37,
     "metadata": {},
     "output_type": "execute_result"
    },
    {
     "data": {
      "image/png": "[encoded data removed]",
      "text/plain": [
       "<Figure size 432x288 with 1 Axes>"
      ]
     },
     "metadata": {},
     "output_type": "display_data"
    }
   ],
   "source": [
    "movies['num_ratings'].hist(bins=100)"
   ]
  },
  {
   "cell_type": "code",
   "execution_count": 38,
   "metadata": {},
   "outputs": [
    {
     "data": {
      "text/html": [
       "<div>\n",
       "<style scoped>\n",
       "    .dataframe tbody tr th:only-of-type {\n",
       "        vertical-align: middle;\n",
       "    }\n",
       "\n",
       "    .dataframe tbody tr th {\n",
       "        vertical-align: top;\n",
       "    }\n",
       "\n",
       "    .dataframe thead th {\n",
       "        text-align: right;\n",
       "    }\n",
       "</style>\n",
       "<table border=\"1\" class=\"dataframe\">\n",
       "  <thead>\n",
       "    <tr style=\"text-align: right;\">\n",
       "      <th></th>\n",
       "      <th>rate</th>\n",
       "      <th>num_ratings</th>\n",
       "    </tr>\n",
       "  </thead>\n",
       "  <tbody>\n",
       "    <tr>\n",
       "      <th>rate</th>\n",
       "      <td>1.000000</td>\n",
       "      <td>0.127945</td>\n",
       "    </tr>\n",
       "    <tr>\n",
       "      <th>num_ratings</th>\n",
       "      <td>0.127945</td>\n",
       "      <td>1.000000</td>\n",
       "    </tr>\n",
       "  </tbody>\n",
       "</table>\n",
       "</div>"
      ],
      "text/plain": [
       "                 rate  num_ratings\n",
       "rate         1.000000     0.127945\n",
       "num_ratings  0.127945     1.000000"
      ]
     },
     "execution_count": 38,
     "metadata": {},
     "output_type": "execute_result"
    }
   ],
   "source": [
    "movies[['rate', 'num_ratings']].corr()"
   ]
  },
  {
   "cell_type": "code",
   "execution_count": 39,
   "metadata": {},
   "outputs": [
    {
     "data": {
      "text/plain": [
       "<matplotlib.axes._subplots.AxesSubplot at 0x7fe393c54be0>"
      ]
     },
     "execution_count": 39,
     "metadata": {},
     "output_type": "execute_result"
    },
    {
     "data": {
      "image/png": "[encoded data removed]",
      "text/plain": [
       "<Figure size 432x288 with 1 Axes>"
      ]
     },
     "metadata": {},
     "output_type": "display_data"
    }
   ],
   "source": [
    "movies.plot(kind='scatter', x='num_ratings', y='rate')"
   ]
  },
  {
   "cell_type": "code",
   "execution_count": 40,
   "metadata": {},
   "outputs": [
    {
     "data": {
      "text/html": [
       "<div>\n",
       "<style scoped>\n",
       "    .dataframe tbody tr th:only-of-type {\n",
       "        vertical-align: middle;\n",
       "    }\n",
       "\n",
       "    .dataframe tbody tr th {\n",
       "        vertical-align: top;\n",
       "    }\n",
       "\n",
       "    .dataframe thead th {\n",
       "        text-align: right;\n",
       "    }\n",
       "</style>\n",
       "<table border=\"1\" class=\"dataframe\">\n",
       "  <thead>\n",
       "    <tr style=\"text-align: right;\">\n",
       "      <th></th>\n",
       "      <th>title</th>\n",
       "      <th>summary</th>\n",
       "      <th>year</th>\n",
       "      <th>gross</th>\n",
       "      <th>storyline</th>\n",
       "      <th>photo</th>\n",
       "      <th>release_date</th>\n",
       "      <th>country</th>\n",
       "      <th>language</th>\n",
       "      <th>genres</th>\n",
       "      <th>color</th>\n",
       "      <th>runtime</th>\n",
       "      <th>certificate</th>\n",
       "      <th>production_co</th>\n",
       "      <th>rate</th>\n",
       "      <th>num_ratings</th>\n",
       "      <th>plot_keywords</th>\n",
       "      <th>cast</th>\n",
       "    </tr>\n",
       "    <tr>\n",
       "      <th>imdb_id</th>\n",
       "      <th></th>\n",
       "      <th></th>\n",
       "      <th></th>\n",
       "      <th></th>\n",
       "      <th></th>\n",
       "      <th></th>\n",
       "      <th></th>\n",
       "      <th></th>\n",
       "      <th></th>\n",
       "      <th></th>\n",
       "      <th></th>\n",
       "      <th></th>\n",
       "      <th></th>\n",
       "      <th></th>\n",
       "      <th></th>\n",
       "      <th></th>\n",
       "      <th></th>\n",
       "      <th></th>\n",
       "    </tr>\n",
       "  </thead>\n",
       "  <tbody>\n",
       "    <tr>\n",
       "      <th>tt1010048</th>\n",
       "      <td>Slumdog Millionaire</td>\n",
       "      <td>A Mumbai teen reflects on his upbringing in th...</td>\n",
       "      <td>2008.0</td>\n",
       "      <td>1.0</td>\n",
       "      <td>The story of Jamal Malik, an 18 year-old orpha...</td>\n",
       "      <td>https://m.media-amazon.com/images/M/MV5BZmNjZW...</td>\n",
       "      <td>2008-12-25</td>\n",
       "      <td>[UK, USA, France, Germany, India]</td>\n",
       "      <td>[English, Hindi, French, German]</td>\n",
       "      <td>[Drama, Romance]</td>\n",
       "      <td>Color</td>\n",
       "      <td>120.0</td>\n",
       "      <td>None</td>\n",
       "      <td>[Warner Bros., Celador Films]</td>\n",
       "      <td>8.0</td>\n",
       "      <td>722712.0</td>\n",
       "      <td>[india, television show, contestant, underdog,...</td>\n",
       "      <td>[{'imdb_id': 'nm2353862', 'name': 'Dev Patel',...</td>\n",
       "    </tr>\n",
       "    <tr>\n",
       "      <th>tt1187043</th>\n",
       "      <td>3 Idiots</td>\n",
       "      <td>Two friends are searching for their long lost ...</td>\n",
       "      <td>2009.0</td>\n",
       "      <td>6.0</td>\n",
       "      <td>Farhan Qureshi and Raju Rastogi want to re-uni...</td>\n",
       "      <td>https://m.media-amazon.com/images/M/MV5BNTkyOG...</td>\n",
       "      <td>2009-12-24</td>\n",
       "      <td>[India]</td>\n",
       "      <td>[Hindi, English]</td>\n",
       "      <td>[Comedy, Drama]</td>\n",
       "      <td>Color</td>\n",
       "      <td>170.0</td>\n",
       "      <td>None</td>\n",
       "      <td>[]</td>\n",
       "      <td>8.4</td>\n",
       "      <td>282048.0</td>\n",
       "      <td>[bollywood, against the system, suicide, suici...</td>\n",
       "      <td>[{'imdb_id': 'nm0451148', 'name': 'Aamir Khan'...</td>\n",
       "    </tr>\n",
       "    <tr>\n",
       "      <th>tt0986264</th>\n",
       "      <td>Like Stars on Earth</td>\n",
       "      <td>An eight-year-old boy is thought to be a lazy ...</td>\n",
       "      <td>2007.0</td>\n",
       "      <td>1.0</td>\n",
       "      <td>Ishaan Awasthi is an eight-year-old child whos...</td>\n",
       "      <td>https://m.media-amazon.com/images/M/MV5BNTVmYT...</td>\n",
       "      <td>2007-12-21</td>\n",
       "      <td>[India]</td>\n",
       "      <td>[Hindi, English]</td>\n",
       "      <td>[Drama, Family]</td>\n",
       "      <td>Color</td>\n",
       "      <td>165.0</td>\n",
       "      <td>None</td>\n",
       "      <td>[Aamir Khan Productions]</td>\n",
       "      <td>8.4</td>\n",
       "      <td>129723.0</td>\n",
       "      <td>[dyslexia, dream, intolerance, special educati...</td>\n",
       "      <td>[{'imdb_id': 'nm2594301', 'name': 'Darsheel Sa...</td>\n",
       "    </tr>\n",
       "    <tr>\n",
       "      <th>tt2338151</th>\n",
       "      <td>PK</td>\n",
       "      <td>An alien on Earth loses the only device he can...</td>\n",
       "      <td>2014.0</td>\n",
       "      <td>1.0</td>\n",
       "      <td>P. K. is a comedy of ideas about a stranger in...</td>\n",
       "      <td>https://m.media-amazon.com/images/M/MV5BMTYzOT...</td>\n",
       "      <td>2014-12-19</td>\n",
       "      <td>[India]</td>\n",
       "      <td>[Hindi, English, Urdu, Persian, Kurdish]</td>\n",
       "      <td>[Comedy, Drama]</td>\n",
       "      <td>Color</td>\n",
       "      <td>153.0</td>\n",
       "      <td>Not Rated|\\n »</td>\n",
       "      <td>[Rajkumar Hirani Films]</td>\n",
       "      <td>8.2</td>\n",
       "      <td>127507.0</td>\n",
       "      <td>[religion, letter in title, indian, indian abr...</td>\n",
       "      <td>[{'imdb_id': 'nm0451148', 'name': 'Aamir Khan'...</td>\n",
       "    </tr>\n",
       "    <tr>\n",
       "      <th>tt5074352</th>\n",
       "      <td>Dangal</td>\n",
       "      <td>Former wrestler</td>\n",
       "      <td>2016.0</td>\n",
       "      <td>1.0</td>\n",
       "      <td>Biopic of</td>\n",
       "      <td>https://m.media-amazon.com/images/M/MV5BMTQ4Mz...</td>\n",
       "      <td>2016-12-21</td>\n",
       "      <td>[India]</td>\n",
       "      <td>[Hindi, Tamil, Telugu]</td>\n",
       "      <td>[Action, Biography, Drama, Sport]</td>\n",
       "      <td>Color</td>\n",
       "      <td>140.0</td>\n",
       "      <td>Not Rated|\\n »</td>\n",
       "      <td>[Aamir Khan Productions, UTV Motion Pictures]</td>\n",
       "      <td>8.5</td>\n",
       "      <td>105171.0</td>\n",
       "      <td>[small town, father daughter relationship, mal...</td>\n",
       "      <td>[{'imdb_id': 'nm0451148', 'name': 'Aamir Khan'...</td>\n",
       "    </tr>\n",
       "  </tbody>\n",
       "</table>\n",
       "</div>"
      ],
      "text/plain": [
       "                         title  \\\n",
       "imdb_id                          \n",
       "tt1010048  Slumdog Millionaire   \n",
       "tt1187043             3 Idiots   \n",
       "tt0986264  Like Stars on Earth   \n",
       "tt2338151                   PK   \n",
       "tt5074352               Dangal   \n",
       "\n",
       "                                                     summary    year  gross  \\\n",
       "imdb_id                                                                       \n",
       "tt1010048  A Mumbai teen reflects on his upbringing in th...  2008.0    1.0   \n",
       "tt1187043  Two friends are searching for their long lost ...  2009.0    6.0   \n",
       "tt0986264  An eight-year-old boy is thought to be a lazy ...  2007.0    1.0   \n",
       "tt2338151  An alien on Earth loses the only device he can...  2014.0    1.0   \n",
       "tt5074352                                    Former wrestler  2016.0    1.0   \n",
       "\n",
       "                                                   storyline  \\\n",
       "imdb_id                                                        \n",
       "tt1010048  The story of Jamal Malik, an 18 year-old orpha...   \n",
       "tt1187043  Farhan Qureshi and Raju Rastogi want to re-uni...   \n",
       "tt0986264  Ishaan Awasthi is an eight-year-old child whos...   \n",
       "tt2338151  P. K. is a comedy of ideas about a stranger in...   \n",
       "tt5074352                                          Biopic of   \n",
       "\n",
       "                                                       photo release_date  \\\n",
       "imdb_id                                                                     \n",
       "tt1010048  https://m.media-amazon.com/images/M/MV5BZmNjZW...   2008-12-25   \n",
       "tt1187043  https://m.media-amazon.com/images/M/MV5BNTkyOG...   2009-12-24   \n",
       "tt0986264  https://m.media-amazon.com/images/M/MV5BNTVmYT...   2007-12-21   \n",
       "tt2338151  https://m.media-amazon.com/images/M/MV5BMTYzOT...   2014-12-19   \n",
       "tt5074352  https://m.media-amazon.com/images/M/MV5BMTQ4Mz...   2016-12-21   \n",
       "\n",
       "                                     country  \\\n",
       "imdb_id                                        \n",
       "tt1010048  [UK, USA, France, Germany, India]   \n",
       "tt1187043                            [India]   \n",
       "tt0986264                            [India]   \n",
       "tt2338151                            [India]   \n",
       "tt5074352                            [India]   \n",
       "\n",
       "                                           language  \\\n",
       "imdb_id                                               \n",
       "tt1010048          [English, Hindi, French, German]   \n",
       "tt1187043                          [Hindi, English]   \n",
       "tt0986264                          [Hindi, English]   \n",
       "tt2338151  [Hindi, English, Urdu, Persian, Kurdish]   \n",
       "tt5074352                    [Hindi, Tamil, Telugu]   \n",
       "\n",
       "                                      genres  color  runtime     certificate  \\\n",
       "imdb_id                                                                        \n",
       "tt1010048                   [Drama, Romance]  Color    120.0            None   \n",
       "tt1187043                    [Comedy, Drama]  Color    170.0            None   \n",
       "tt0986264                    [Drama, Family]  Color    165.0            None   \n",
       "tt2338151                    [Comedy, Drama]  Color    153.0  Not Rated|\\n »   \n",
       "tt5074352  [Action, Biography, Drama, Sport]  Color    140.0  Not Rated|\\n »   \n",
       "\n",
       "                                           production_co  rate  num_ratings  \\\n",
       "imdb_id                                                                       \n",
       "tt1010048                  [Warner Bros., Celador Films]   8.0     722712.0   \n",
       "tt1187043                                             []   8.4     282048.0   \n",
       "tt0986264                       [Aamir Khan Productions]   8.4     129723.0   \n",
       "tt2338151                        [Rajkumar Hirani Films]   8.2     127507.0   \n",
       "tt5074352  [Aamir Khan Productions, UTV Motion Pictures]   8.5     105171.0   \n",
       "\n",
       "                                               plot_keywords  \\\n",
       "imdb_id                                                        \n",
       "tt1010048  [india, television show, contestant, underdog,...   \n",
       "tt1187043  [bollywood, against the system, suicide, suici...   \n",
       "tt0986264  [dyslexia, dream, intolerance, special educati...   \n",
       "tt2338151  [religion, letter in title, indian, indian abr...   \n",
       "tt5074352  [small town, father daughter relationship, mal...   \n",
       "\n",
       "                                                        cast  \n",
       "imdb_id                                                       \n",
       "tt1010048  [{'imdb_id': 'nm2353862', 'name': 'Dev Patel',...  \n",
       "tt1187043  [{'imdb_id': 'nm0451148', 'name': 'Aamir Khan'...  \n",
       "tt0986264  [{'imdb_id': 'nm2594301', 'name': 'Darsheel Sa...  \n",
       "tt2338151  [{'imdb_id': 'nm0451148', 'name': 'Aamir Khan'...  \n",
       "tt5074352  [{'imdb_id': 'nm0451148', 'name': 'Aamir Khan'...  "
      ]
     },
     "execution_count": 40,
     "metadata": {},
     "output_type": "execute_result"
    }
   ],
   "source": [
    "movies.nlargest(5, 'num_ratings')"
   ]
  },
  {
   "cell_type": "code",
   "execution_count": 41,
   "metadata": {},
   "outputs": [
    {
     "data": {
      "text/plain": [
       "<matplotlib.axes._subplots.AxesSubplot at 0x7fe393bf5978>"
      ]
     },
     "execution_count": 41,
     "metadata": {},
     "output_type": "execute_result"
    },
    {
     "data": {
      "image/png": "[encoded data removed]",
      "text/plain": [
       "<Figure size 432x288 with 1 Axes>"
      ]
     },
     "metadata": {},
     "output_type": "display_data"
    }
   ],
   "source": [
    "movies[movies.num_ratings < movies.num_ratings.quantile(.95)].plot(kind='scatter', x='num_ratings', y='rate')"
   ]
  },
  {
   "cell_type": "markdown",
   "metadata": {},
   "source": [
    "Movie duration over time"
   ]
  },
  {
   "cell_type": "code",
   "execution_count": 42,
   "metadata": {},
   "outputs": [
    {
     "data": {
      "text/plain": [
       "<matplotlib.axes._subplots.AxesSubplot at 0x7fe393c109e8>"
      ]
     },
     "execution_count": 42,
     "metadata": {},
     "output_type": "execute_result"
    },
    {
     "data": {
      "image/png": "[encoded data removed]",
      "text/plain": [
       "<Figure size 432x288 with 1 Axes>"
      ]
     },
     "metadata": {},
     "output_type": "display_data"
    }
   ],
   "source": [
    "movies.set_index('release_date')['runtime'].plot()"
   ]
  },
  {
   "cell_type": "code",
   "execution_count": 43,
   "metadata": {},
   "outputs": [
    {
     "data": {
      "text/plain": [
       "<matplotlib.axes._subplots.AxesSubplot at 0x7fe393baccf8>"
      ]
     },
     "execution_count": 43,
     "metadata": {},
     "output_type": "execute_result"
    },
    {
     "data": {
      "image/png": "[encoded data removed]",
      "text/plain": [
       "<Figure size 432x288 with 1 Axes>"
      ]
     },
     "metadata": {},
     "output_type": "display_data"
    }
   ],
   "source": [
    "movies.set_index('release_date').resample('Q')['runtime'].median().plot()"
   ]
  },
  {
   "cell_type": "code",
   "execution_count": 44,
   "metadata": {},
   "outputs": [
    {
     "data": {
      "text/plain": [
       "color\n",
       "Black and White    125.0\n",
       "Color              133.0\n",
       "Name: runtime, dtype: float64"
      ]
     },
     "execution_count": 44,
     "metadata": {},
     "output_type": "execute_result"
    }
   ],
   "source": [
    "movies.groupby('color')['runtime'].median()"
   ]
  },
  {
   "cell_type": "code",
   "execution_count": null,
   "metadata": {},
   "outputs": [],
   "source": []
  }
 ],
 "metadata": {
  "kernelspec": {
   "display_name": "Python 3",
   "language": "python",
   "name": "python3"
  },
  "language_info": {
   "codemirror_mode": {
    "name": "ipython",
    "version": 3
   },
   "file_extension": ".py",
   "mimetype": "text/x-python",
   "name": "python",
   "nbconvert_exporter": "python",
   "pygments_lexer": "ipython3",
   "version": "3.6.5"
  }
 },
 "nbformat": 4,
 "nbformat_minor": 2
}
