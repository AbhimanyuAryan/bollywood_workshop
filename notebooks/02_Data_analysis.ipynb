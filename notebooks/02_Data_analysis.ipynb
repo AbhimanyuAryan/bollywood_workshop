{
 "cells": [
  {
   "cell_type": "markdown",
   "metadata": {},
   "source": [
    "# Part II: Data analysis\n",
    "\n",
    "![](img/analysis.png)\n",
    "\n",
    "In this section we'll learn:\n",
    "- How to obtain simple insights from the data\n",
    "- How to generate simple plots\n",
    "- Groupping data and computing aggregates\n",
    "- Basic time series operations"
   ]
  },
  {
   "cell_type": "code",
   "execution_count": null,
   "metadata": {},
   "outputs": [],
   "source": [
    "# check rating versus num votes\n",
    "# nlargest"
   ]
  }
 ],
 "metadata": {
  "kernelspec": {
   "display_name": "Python 3",
   "language": "python",
   "name": "python3"
  },
  "language_info": {
   "codemirror_mode": {
    "name": "ipython",
    "version": 3
   },
   "file_extension": ".py",
   "mimetype": "text/x-python",
   "name": "python",
   "nbconvert_exporter": "python",
   "pygments_lexer": "ipython3",
   "version": "3.7.0"
  }
 },
 "nbformat": 4,
 "nbformat_minor": 2
}
